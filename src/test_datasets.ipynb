{
 "cells": [
  {
   "cell_type": "code",
   "id": "initial_id",
   "metadata": {
    "collapsed": true,
    "ExecuteTime": {
     "end_time": "2024-11-25T11:11:13.164047Z",
     "start_time": "2024-11-25T11:11:11.764336Z"
    }
   },
   "source": [
    "from datasets import load_dataset\n",
    "\n",
    "language_pair = \"en-es\" # unfortunately, for this huggingface impl, only english-nonenglish sets are available!\n",
    "ds = load_dataset(\"sentence-transformers/parallel-sentences-global-voices\", language_pair)\n",
    "data = ds[\"train\"]\n",
    "print(\"language_pair=\", language_pair)\n",
    "print(\"number of examples=\", len(data))\n",
    "\n",
    "for i in range(10):\n",
    "    print(\"==========\",i,\"==========\")\n",
    "    print(\"English : \",data[i][\"english\"])\n",
    "    print(\"Spanish : \",data[i][\"non_english\"])\n",
    "\n"
   ],
   "outputs": [
    {
     "name": "stdout",
     "output_type": "stream",
     "text": [
      "language_pair= en-es\n",
      "number of examples= 248152\n",
      "========== 0 ==========\n",
      "English :  Argentina: Stencil Graffiti · Global Voices\n",
      "Spanish :  Argentina: Graffitis\n",
      "========== 1 ==========\n",
      "English :  Line of Sight has an excellent collection of stencil graffiti from around Buenos Aires.\n",
      "Spanish :  'Line of Sight' tiene una excelente colección de graffitis de lugares de Buenos Aires.\n",
      "========== 2 ==========\n",
      "English :  Most images have captions explaining the significance.\n",
      "Spanish :  La mayoría de las imágenes tienen notas explicando el significado.\n",
      "========== 3 ==========\n",
      "English :  Argentina: La Boca - Impressions · Global Voices\n",
      "Spanish :  Argentina: Impresiones de La Boca\n",
      "========== 4 ==========\n",
      "English :  Marisa of It Takes Two to Tango offers up her impressions of La Boca, Argentina.\n",
      "Spanish :  Marisa de 'It Takes Two to Tango' entrega sus impresiones de La Boca, Argentina .\n",
      "========== 5 ==========\n",
      "English :  Bahrain: Look ma, I'm on a Segway! · Global Voices\n",
      "Spanish :  Bahréin: Mírenme, estoy en un Segway!\n",
      "========== 6 ==========\n",
      "English :  Mahmood, who writes the Bahraini blog Mahmood's Den tried out a Segway today.\n",
      "Spanish :  Mahmood, que escribe en el blog bareiní 'Mahmood's Den' hoy día probó un Segway (NdT: un Segway es un vehículo de transporte ligero eléctrico de dos ruedas).\n",
      "========== 7 ==========\n",
      "English :  While he was having a blast riding around on it, he also thought that they'd be quite practical for everday use in Bahrain.\n",
      "Spanish :  Mientras la pasaba en grande, pensó que podría ser práctico para el uso diario en Bahréin.\n",
      "========== 8 ==========\n",
      "English :  Bangladesh: Revolt of the Privileged · Global Voices\n",
      "Spanish :  Bangladesh: Revuelta de los privilegiados\n",
      "========== 9 ==========\n",
      "English :  DeshCalling points to an article which analyses what it terms as the 'revolt of the privileged' and offers other readings to form an opinion.\n",
      "Spanish :  'DeshCalling' señala un artículo que analiza lo que denomina como la 'revuelta de los privilegiados' y ofrece otras lecturas para formarse una opinión.\n"
     ]
    }
   ],
   "execution_count": 6
  },
  {
   "metadata": {},
   "cell_type": "code",
   "outputs": [],
   "execution_count": null,
   "source": "",
   "id": "f08746d9b12cbc2"
  }
 ],
 "metadata": {
  "kernelspec": {
   "display_name": "Python 3",
   "language": "python",
   "name": "python3"
  },
  "language_info": {
   "codemirror_mode": {
    "name": "ipython",
    "version": 2
   },
   "file_extension": ".py",
   "mimetype": "text/x-python",
   "name": "python",
   "nbconvert_exporter": "python",
   "pygments_lexer": "ipython2",
   "version": "2.7.6"
  }
 },
 "nbformat": 4,
 "nbformat_minor": 5
}
